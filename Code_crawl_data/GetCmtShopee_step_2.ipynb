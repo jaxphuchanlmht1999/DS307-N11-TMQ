{
 "cells": [
  {
   "cell_type": "code",
   "execution_count": 191,
   "metadata": {},
   "outputs": [],
   "source": [
    "import pandas as pd\n",
    "\n",
    "# -- Selenium --\n",
    "from selenium import webdriver\n",
    "from selenium.webdriver.chrome.options import Options\n",
    "import time\n",
    "from time import sleep\n",
    "from selenium.webdriver.common.by import By\n",
    "\n",
    "\n",
    "# -- API --\n",
    "import re\n",
    "import json\n",
    "import requests\n",
    "\n",
    "# Get today\n",
    "from datetime import date\n",
    "\n",
    "# Check time\n",
    "from tqdm import tqdm"
   ]
  },
  {
   "cell_type": "code",
   "execution_count": 192,
   "metadata": {},
   "outputs": [],
   "source": [
    "# driver = webdriver.Chrome(executable_path=r\"C:/Users/Admin/OneDrive_Quan/Máy tính/kì 9/hệ khuyến nghị/đồ án/crawl_data_foody/chromedriver\")"
   ]
  },
  {
   "cell_type": "code",
   "execution_count": 193,
   "metadata": {},
   "outputs": [],
   "source": [
    "# Auto Login or Pass the block from Shopee\n",
    "\n",
    "def login_account(driver):\n",
    "    link_login = r'https://shopee.vn/buyer/login?next=https%3A%2F%2Fshopee.vn%2F'\n",
    "    driver.get(link_login)\n",
    "\n",
    "    if(len(driver.find_elements(by=By.NAME, value='loginKey'))):\n",
    "        _username = ''\n",
    "        _password = ''\n",
    "\n",
    "        username_field = driver.find_element(by=By.NAME, value='loginKey')\n",
    "        username_field.send_keys(_username)\n",
    "\n",
    "        password_field = driver.find_element(by=By.NAME, value='password')\n",
    "        password_field.send_keys(_password)\n",
    "\n",
    "        sleep(0.5)\n",
    "\n",
    "        login_button = driver.find_element(by=By.XPATH, value='//button[@class=\"wyhvVD _1EApiB hq6WM5 L-VL8Q cepDQ1 _7w24N1\"]')\n",
    "        login_button.click()\n",
    "\n",
    "        sleep(10)\n",
    "\n",
    "def check_login_account(driver):\n",
    "    if(len(driver.find_elements(by=By.NAME, value='loginKey'))):\n",
    "        _username = ''\n",
    "        _password = ''\n",
    "\n",
    "        username_field = driver.find_element(by=By.NAME, value='loginKey')\n",
    "        username_field.send_keys(_username)\n",
    "\n",
    "        password_field = driver.find_element(by=By.NAME, value='password')\n",
    "        password_field.send_keys(_password)\n",
    "\n",
    "        sleep(0.5)\n",
    "\n",
    "        login_button = driver.find_element(by=By.XPATH, value='//button[@class=\"wyhvVD _1EApiB hq6WM5 L-VL8Q cepDQ1 _7w24N1\"]')\n",
    "        login_button.click()\n",
    "\n",
    "        sleep(10)\n",
    "\n",
    "def get_cmt_counts(driver):\n",
    "    try:\n",
    "        check_cmt_counts = driver.find_element(by=By.XPATH, value=\"//div[@class='product-rating-overview__filter product-rating-overview__filter--with-comment']\").text\n",
    "    except:\n",
    "        # product-rating-overview__filter product-rating-overview__filter--active product-rating-overview__filter--with-comment\n",
    "        check_cmt_counts = driver.find_element(by=By.XPATH, value=\"//div[@class='product-rating-overview__filter product-rating-overview__filter--active product-rating-overview__filter--with-comment']\").text\n",
    "    cmt_counts = 0\n",
    "    if('k' in check_cmt_counts):\n",
    "        get_number_in_check_cmt_counts = check_cmt_counts.split('Có Bình Luận (')[1].replace(')','').replace(',','.')\n",
    "        cmt_counts = int(float(get_number_in_check_cmt_counts.replace('k','')) * 1000)\n",
    "    elif('k' not in check_cmt_counts):\n",
    "        get_number_in_check_cmt_counts = check_cmt_counts.split('Có Bình Luận (')[1].replace(')','')\n",
    "        cmt_counts = int(get_number_in_check_cmt_counts)\n",
    "    return cmt_counts"
   ]
  },
  {
   "cell_type": "markdown",
   "metadata": {},
   "source": [
    "check link crawl"
   ]
  },
  {
   "cell_type": "code",
   "execution_count": 194,
   "metadata": {},
   "outputs": [],
   "source": [
    "path_data = 'C:/Users/Admin/OneDrive_Quan/Máy tính/kì 9/phan tich du lieu truyen thong xa hoi/doAn/Data/GetLink_step_1/La Roche-Posay.csv'\n",
    "data_link = pd.read_csv(path_data)\n",
    "data_link = data_link[100:].link"
   ]
  },
  {
   "cell_type": "code",
   "execution_count": 195,
   "metadata": {},
   "outputs": [
    {
     "data": {
      "text/plain": [
       "100    https://shopee.vn/B%E1%BB%99-s%E1%BA%A3n-ph%E1...\n",
       "Name: link, dtype: object"
      ]
     },
     "execution_count": 195,
     "metadata": {},
     "output_type": "execute_result"
    }
   ],
   "source": [
    "data_link"
   ]
  },
  {
   "cell_type": "code",
   "execution_count": 196,
   "metadata": {},
   "outputs": [],
   "source": [
    "def startCrawl(data_link, TotalCmtInfo):\n",
    "    driver = webdriver.Chrome(executable_path=r\"C:/Users/Admin/OneDrive_Quan/Máy tính/kì 9/hệ khuyến nghị/đồ án/crawl_data_foody/chromedriver\")\n",
    "    sleep(3)\n",
    "    login_account(driver)\n",
    "\n",
    "    for link in data_link:\n",
    "        driver.get(link)\n",
    "\n",
    "        sleep(8)\n",
    "\n",
    "\n",
    "        driver.execute_script(\"window.scrollTo(0, 2400);\")\n",
    "        sleep(1)\n",
    "\n",
    "        # click to button \"Have Comment\"\n",
    "        haveCmtButton = driver.find_element(by=By.XPATH, value = '//div[@class=\"product-rating-overview__filter product-rating-overview__filter--with-comment\"]')\n",
    "        haveCmtButton.click()\n",
    "        sleep(1)\n",
    "\n",
    "        # Define button continue\n",
    "        try:\n",
    "            driver.execute_script(\"window.scrollTo(0, 2500);\")\n",
    "            buttonContinue = driver.find_element(by=By.XPATH, value='//button[@class=\"shopee-icon-button shopee-icon-button--right \"]')\n",
    "        except:\n",
    "            driver.execute_script(\"window.scrollTo(0, 2700);\")\n",
    "            buttonContinue = driver.find_element(by=By.XPATH, value='//button[@class=\"shopee-icon-button shopee-icon-button--right \"]')\n",
    "        # Check total cmt\n",
    "        num_cmt = get_cmt_counts(driver)\n",
    "\n",
    "        # If total cmt < total crawled cmt => stop crawl\n",
    "        while(len(TotalCmtInfo) < (num_cmt - 1)):\n",
    "            numReviewNow = len(driver.find_elements(by=By.XPATH, value='//div[@class=\"shopee-product-rating__rating\"]'))\n",
    "            \n",
    "\n",
    "            for i in range(numReviewNow):\n",
    "\n",
    "                \n",
    "                CmtInfo = {}\n",
    "                CmtInfo['reviewStar'] = len(driver.find_elements(by=By.XPATH, value='//div[@class=\"shopee-product-rating__rating\"]')[i].find_elements(by=By.CSS_SELECTOR, value = '.icon-rating-solid'))\n",
    "                \n",
    "                try:\n",
    "                    CmtInfo['comment'] = driver.find_elements(by=By.XPATH, value='//div[@class=\"EXI9SU\"]')[i].text\n",
    "                except:\n",
    "                    CmtInfo['comment'] = ''\n",
    "                \n",
    "                CmtInfo['timeCmt'] = driver.find_elements(by=By.XPATH, value='//div[@class=\"shopee-product-rating__time\"]')[i].text\n",
    "                CmtInfo['nameProduct'] = driver.find_element(by=By.XPATH, value=\"//div[@class='YPqix5']/span\").text\n",
    "                CmtInfo['linkProduct'] = link\n",
    "\n",
    "\n",
    "                TotalCmtInfo.append(CmtInfo)\n",
    "                \n",
    "            print(len(TotalCmtInfo))\n",
    "            \n",
    "            buttonContinue.click()\n",
    "            sleep(2.5)\n",
    "        \n",
    "\n"
   ]
  },
  {
   "cell_type": "markdown",
   "metadata": {},
   "source": [
    "Chinh so luong crawl"
   ]
  },
  {
   "cell_type": "code",
   "execution_count": 197,
   "metadata": {},
   "outputs": [],
   "source": [
    "import threading\n",
    "import numpy as np\n",
    "\n",
    "list_threads = []\n",
    "TotalCmtInfo = []\n",
    "num_thread = 2\n",
    "list_partitions = [partition for partition in np.array_split(data_link, num_thread)]\n",
    "for partition_list in list_partitions:\n",
    "    list_threads.append(threading.Thread(target=startCrawl, args=(partition_list, TotalCmtInfo)))"
   ]
  },
  {
   "cell_type": "code",
   "execution_count": 198,
   "metadata": {},
   "outputs": [
    {
     "name": "stderr",
     "output_type": "stream",
     "text": [
      "C:\\Users\\Admin\\AppData\\Local\\Temp\\ipykernel_17044\\2911266436.py:2: DeprecationWarning: executable_path has been deprecated, please pass in a Service object\n",
      "  driver = webdriver.Chrome(executable_path=r\"C:/Users/Admin/OneDrive_Quan/Máy tính/kì 9/hệ khuyến nghị/đồ án/crawl_data_foody/chromedriver\")\n",
      "Exception in thread Thread-26 (startCrawl):\n",
      "Traceback (most recent call last):\n",
      "  File \"c:\\Users\\Admin\\AppData\\Local\\Programs\\Python\\Python310\\lib\\threading.py\", line 1009, in _bootstrap_inner\n",
      "    self.run()\n",
      "  File \"c:\\Users\\Admin\\AppData\\Local\\Programs\\Python\\Python310\\lib\\threading.py\", line 946, in run\n",
      "    self._target(*self._args, **self._kwargs)\n",
      "  File \"C:\\Users\\Admin\\AppData\\Local\\Temp\\ipykernel_17044\\2911266436.py\", line 4, in startCrawl\n",
      "  File \"C:\\Users\\Admin\\AppData\\Local\\Temp\\ipykernel_17044\\2192570220.py\", line 5, in login_account\n",
      "  File \"c:\\Users\\Admin\\AppData\\Local\\Programs\\Python\\Python310\\lib\\site-packages\\selenium\\webdriver\\remote\\webdriver.py\", line 437, in get\n",
      "    self.execute(Command.GET, {'url': url})\n",
      "  File \"c:\\Users\\Admin\\AppData\\Local\\Programs\\Python\\Python310\\lib\\site-packages\\selenium\\webdriver\\remote\\webdriver.py\", line 425, in execute\n",
      "    self.error_handler.check_response(response)\n",
      "  File \"c:\\Users\\Admin\\AppData\\Local\\Programs\\Python\\Python310\\lib\\site-packages\\selenium\\webdriver\\remote\\errorhandler.py\", line 247, in check_response\n",
      "    raise exception_class(message, screen, stacktrace)\n",
      "selenium.common.exceptions.NoSuchWindowException: Message: no such window: target window already closed\n",
      "from unknown error: web view not found\n",
      "  (Session info: chrome=108.0.5359.96)\n",
      "Stacktrace:\n",
      "Backtrace:\n",
      "\tOrdinal0 [0x002CACD3+2075859]\n",
      "\tOrdinal0 [0x0025EE61+1633889]\n",
      "\tOrdinal0 [0x0015B7BD+571325]\n",
      "\tOrdinal0 [0x00142E1A+470554]\n",
      "\tOrdinal0 [0x001AAA0B+895499]\n",
      "\tOrdinal0 [0x001BAC96+961686]\n",
      "\tOrdinal0 [0x001A7136+880950]\n",
      "\tOrdinal0 [0x0017FEFD+720637]\n",
      "\tOrdinal0 [0x00180F3F+724799]\n",
      "\tGetHandleVerifier [0x0057EED2+2769538]\n",
      "\tGetHandleVerifier [0x00570D95+2711877]\n",
      "\tGetHandleVerifier [0x0035A03A+521194]\n",
      "\tGetHandleVerifier [0x00358DA0+516432]\n",
      "\tOrdinal0 [0x0026682C+1665068]\n",
      "\tOrdinal0 [0x0026B128+1683752]\n",
      "\tOrdinal0 [0x0026B215+1683989]\n",
      "\tOrdinal0 [0x00276484+1729668]\n",
      "\tBaseThreadInitThunk [0x75D1FEF9+25]\n",
      "\tRtlGetAppContainerNamedObjectPath [0x778F7BBE+286]\n",
      "\tRtlGetAppContainerNamedObjectPath [0x778F7B8E+238]\n",
      "\t(No symbol) [0x00000000]\n",
      "\n",
      "Exception in thread Thread-25 (startCrawl):\n",
      "Traceback (most recent call last):\n",
      "  File \"c:\\Users\\Admin\\AppData\\Local\\Programs\\Python\\Python310\\lib\\threading.py\", line 1009, in _bootstrap_inner\n",
      "    self.run()\n",
      "  File \"c:\\Users\\Admin\\AppData\\Local\\Programs\\Python\\Python310\\lib\\threading.py\", line 946, in run\n",
      "    self._target(*self._args, **self._kwargs)\n",
      "  File \"C:\\Users\\Admin\\AppData\\Local\\Temp\\ipykernel_17044\\2911266436.py\", line 12, in startCrawl\n",
      "  File \"c:\\Users\\Admin\\AppData\\Local\\Programs\\Python\\Python310\\lib\\site-packages\\selenium\\webdriver\\remote\\webdriver.py\", line 879, in execute_script\n",
      "    return self.execute(command, {\n",
      "  File \"c:\\Users\\Admin\\AppData\\Local\\Programs\\Python\\Python310\\lib\\site-packages\\selenium\\webdriver\\remote\\webdriver.py\", line 425, in execute\n",
      "    self.error_handler.check_response(response)\n",
      "  File \"c:\\Users\\Admin\\AppData\\Local\\Programs\\Python\\Python310\\lib\\site-packages\\selenium\\webdriver\\remote\\errorhandler.py\", line 247, in check_response\n",
      "    raise exception_class(message, screen, stacktrace)\n",
      "selenium.common.exceptions.NoSuchWindowException: Message: no such window: target window already closed\n",
      "from unknown error: web view not found\n",
      "  (Session info: chrome=108.0.5359.96)\n",
      "Stacktrace:\n",
      "Backtrace:\n",
      "\tOrdinal0 [0x002CACD3+2075859]\n",
      "\tOrdinal0 [0x0025EE61+1633889]\n",
      "\tOrdinal0 [0x0015B7BD+571325]\n",
      "\tOrdinal0 [0x00142E1A+470554]\n",
      "\tOrdinal0 [0x001AAA0B+895499]\n",
      "\tOrdinal0 [0x001BAC96+961686]\n",
      "\tOrdinal0 [0x001A7136+880950]\n",
      "\tOrdinal0 [0x0017FEFD+720637]\n",
      "\tOrdinal0 [0x00180F3F+724799]\n",
      "\tGetHandleVerifier [0x0057EED2+2769538]\n",
      "\tGetHandleVerifier [0x00570D95+2711877]\n",
      "\tGetHandleVerifier [0x0035A03A+521194]\n",
      "\tGetHandleVerifier [0x00358DA0+516432]\n",
      "\tOrdinal0 [0x0026682C+1665068]\n",
      "\tOrdinal0 [0x0026B128+1683752]\n",
      "\tOrdinal0 [0x0026B215+1683989]\n",
      "\tOrdinal0 [0x00276484+1729668]\n",
      "\tBaseThreadInitThunk [0x75D1FEF9+25]\n",
      "\tRtlGetAppContainerNamedObjectPath [0x778F7BBE+286]\n",
      "\tRtlGetAppContainerNamedObjectPath [0x778F7B8E+238]\n",
      "\t(No symbol) [0x00000000]\n",
      "\n"
     ]
    }
   ],
   "source": [
    "for thread in list_threads:\n",
    "    thread.start()  \n",
    "    time.sleep(20)  "
   ]
  },
  {
   "cell_type": "code",
   "execution_count": 199,
   "metadata": {},
   "outputs": [],
   "source": [
    "for thread in list_threads:\n",
    "    thread.join()  "
   ]
  },
  {
   "cell_type": "code",
   "execution_count": 200,
   "metadata": {},
   "outputs": [
    {
     "data": {
      "text/plain": [
       "0"
      ]
     },
     "execution_count": 200,
     "metadata": {},
     "output_type": "execute_result"
    }
   ],
   "source": [
    "len(TotalCmtInfo)"
   ]
  },
  {
   "cell_type": "markdown",
   "metadata": {},
   "source": [
    "Chinh ten file dau ra"
   ]
  },
  {
   "cell_type": "code",
   "execution_count": 201,
   "metadata": {},
   "outputs": [],
   "source": [
    "pd.DataFrame(TotalCmtInfo).to_csv('C:/Users/Admin/OneDrive_Quan/Máy tính/kì 9/phan tich du lieu truyen thong xa hoi/doAn/Data/GetCmt_step_2/cmtShopeeStep2_100_100.csv', index = False)"
   ]
  },
  {
   "cell_type": "code",
   "execution_count": null,
   "metadata": {},
   "outputs": [],
   "source": [
    "df_check = pd.DataFrame(TotalCmtInfo)\n",
    "\n",
    "df_check[df_check['reviewStar'] == 1]"
   ]
  },
  {
   "cell_type": "code",
   "execution_count": null,
   "metadata": {},
   "outputs": [
    {
     "data": {
      "text/plain": [
       "5    142\n",
       "4      2\n",
       "1      2\n",
       "Name: reviewStar, dtype: int64"
      ]
     },
     "execution_count": 173,
     "metadata": {},
     "output_type": "execute_result"
    }
   ],
   "source": [
    "df_check['reviewStar'].value_counts()"
   ]
  },
  {
   "cell_type": "code",
   "execution_count": null,
   "metadata": {},
   "outputs": [
    {
     "data": {
      "text/plain": [
       "https://shopee.vn/B%E1%BB%99-s%E1%BA%A3n-ph%E1%BA%A9m-x%E1%BB%8Bt-kho%C3%A1ng-gi%C3%BAp-l%C3%A0m-s%E1%BA%A1ch-l%C3%A0m-d%E1%BB%8Bu-da-La-RochePosay-Serozinc-i.37251700.13980697858?sp_atk=f085584a-4a75-411e-b84c-08f8d355c959    146\n",
       "Name: linkProduct, dtype: int64"
      ]
     },
     "execution_count": 174,
     "metadata": {},
     "output_type": "execute_result"
    }
   ],
   "source": [
    "df_check['linkProduct'].value_counts()"
   ]
  },
  {
   "cell_type": "code",
   "execution_count": null,
   "metadata": {},
   "outputs": [],
   "source": [
    "# driver = webdriver.Chrome(executable_path=r\"C:/Users/Admin/OneDrive_Quan/Máy tính/kì 9/hệ khuyến nghị/đồ án/crawl_data_foody/chromedriver\")"
   ]
  },
  {
   "cell_type": "code",
   "execution_count": null,
   "metadata": {},
   "outputs": [],
   "source": [
    "# driver.get('https://shopee.vn/S%E1%BB%AFa-r%E1%BB%ADa-m%E1%BA%B7t-t%E1%BA%A9y-trang-d%E1%BB%8Bu-nh%E1%BA%B9-cho-da-r%E1%BA%A5t-nh%E1%BA%A1y-c%E1%BA%A3m-v%C3%A0-k%C3%ADch-%E1%BB%A9ng-La-Roche-Posay-Toleriane-Dermo-Hydrating-100ml-i.37251700.14103877301?sp_atk=2ad6c8d2-eb2f-4cc2-8495-c652bf92efc4&xptdk=2ad6c8d2-eb2f-4cc2-8495-c652bf92efc4')"
   ]
  },
  {
   "cell_type": "code",
   "execution_count": 4,
   "metadata": {},
   "outputs": [],
   "source": [
    "import pandas as pd\n",
    "\n",
    "df_1 = pd.read_csv('C:/Users/Admin/OneDrive_Quan/Máy tính/kì 9/phan tich du lieu truyen thong xa hoi/doAn/Data/GetCmt_step_2/cmtShopeeStep2_0_3.csv')\n",
    "df_2 = pd.read_csv('C:/Users/Admin/OneDrive_Quan/Máy tính/kì 9/phan tich du lieu truyen thong xa hoi/doAn/Data/GetCmt_step_2/cmtShopeeStep2_4_7.csv')\n",
    "df_3 = pd.read_csv('C:/Users/Admin/OneDrive_Quan/Máy tính/kì 9/phan tich du lieu truyen thong xa hoi/doAn/Data/GetCmt_step_2/cmtShopeeStep2_8_11.csv')\n",
    "df_4 = pd.read_csv('C:/Users/Admin/OneDrive_Quan/Máy tính/kì 9/phan tich du lieu truyen thong xa hoi/doAn/Data/GetCmt_step_2/cmtShopeeStep2_11_13.csv')\n",
    "df_5 = pd.read_csv('C:/Users/Admin/OneDrive_Quan/Máy tính/kì 9/phan tich du lieu truyen thong xa hoi/doAn/Data/GetCmt_step_2/cmtShopeeStep2_14_16.csv')\n",
    "df_6 = pd.read_csv('C:/Users/Admin/OneDrive_Quan/Máy tính/kì 9/phan tich du lieu truyen thong xa hoi/doAn/Data/GetCmt_step_2/cmtShopeeStep2_17_19.csv')\n",
    "df_7 = pd.read_csv('C:/Users/Admin/OneDrive_Quan/Máy tính/kì 9/phan tich du lieu truyen thong xa hoi/doAn/Data/GetCmt_step_2/cmtShopeeStep2_19_21.csv')\n",
    "df_8 = pd.read_csv('C:/Users/Admin/OneDrive_Quan/Máy tính/kì 9/phan tich du lieu truyen thong xa hoi/doAn/Data/GetCmt_step_2/cmtShopeeStep2_22_24.csv')\n",
    "df_9 = pd.read_csv('C:/Users/Admin/OneDrive_Quan/Máy tính/kì 9/phan tich du lieu truyen thong xa hoi/doAn/Data/GetCmt_step_2/cmtShopeeStep2_25_27.csv')\n",
    "df_10 = pd.read_csv('C:/Users/Admin/OneDrive_Quan/Máy tính/kì 9/phan tich du lieu truyen thong xa hoi/doAn/Data/GetCmt_step_2/cmtShopeeStep2_28_30.csv')\n",
    "df_11 = pd.read_csv('C:/Users/Admin/OneDrive_Quan/Máy tính/kì 9/phan tich du lieu truyen thong xa hoi/doAn/Data/GetCmt_step_2/cmtShopeeStep2_31_33.csv')\n",
    "df_12 = pd.read_csv('C:/Users/Admin/OneDrive_Quan/Máy tính/kì 9/phan tich du lieu truyen thong xa hoi/doAn/Data/GetCmt_step_2/cmtShopeeStep2_34_36.csv')\n",
    "df_13 = pd.read_csv('C:/Users/Admin/OneDrive_Quan/Máy tính/kì 9/phan tich du lieu truyen thong xa hoi/doAn/Data/GetCmt_step_2/cmtShopeeStep2_37_38.csv')\n",
    "df_14 = pd.read_csv('C:/Users/Admin/OneDrive_Quan/Máy tính/kì 9/phan tich du lieu truyen thong xa hoi/doAn/Data/GetCmt_step_2/cmtShopeeStep2_39_39.csv')\n",
    "df_15 = pd.read_csv('C:/Users/Admin/OneDrive_Quan/Máy tính/kì 9/phan tich du lieu truyen thong xa hoi/doAn/Data/GetCmt_step_2/cmtShopeeStep2_40_42.csv')\n",
    "df_16 = pd.read_csv('C:/Users/Admin/OneDrive_Quan/Máy tính/kì 9/phan tich du lieu truyen thong xa hoi/doAn/Data/GetCmt_step_2/cmtShopeeStep2_43_45.csv')\n",
    "df_17 = pd.read_csv('C:/Users/Admin/OneDrive_Quan/Máy tính/kì 9/phan tich du lieu truyen thong xa hoi/doAn/Data/GetCmt_step_2/cmtShopeeStep2_45_45.csv')\n",
    "df_18 = pd.read_csv('C:/Users/Admin/OneDrive_Quan/Máy tính/kì 9/phan tich du lieu truyen thong xa hoi/doAn/Data/GetCmt_step_2/cmtShopeeStep2_46_48.csv')\n",
    "df_19 = pd.read_csv('C:/Users/Admin/OneDrive_Quan/Máy tính/kì 9/phan tich du lieu truyen thong xa hoi/doAn/Data/GetCmt_step_2/cmtShopeeStep2_49_51.csv')\n",
    "df_20 = pd.read_csv('C:/Users/Admin/OneDrive_Quan/Máy tính/kì 9/phan tich du lieu truyen thong xa hoi/doAn/Data/GetCmt_step_2/cmtShopeeStep2_51_52.csv')\n",
    "df_21 = pd.read_csv('C:/Users/Admin/OneDrive_Quan/Máy tính/kì 9/phan tich du lieu truyen thong xa hoi/doAn/Data/GetCmt_step_2/cmtShopeeStep2_53_54.csv')\n",
    "df_22 = pd.read_csv('C:/Users/Admin/OneDrive_Quan/Máy tính/kì 9/phan tich du lieu truyen thong xa hoi/doAn/Data/GetCmt_step_2/cmtShopeeStep2_55_56.csv')\n",
    "df_23 = pd.read_csv('C:/Users/Admin/OneDrive_Quan/Máy tính/kì 9/phan tich du lieu truyen thong xa hoi/doAn/Data/GetCmt_step_2/cmtShopeeStep2_57_58.csv')\n",
    "df_24 = pd.read_csv('C:/Users/Admin/OneDrive_Quan/Máy tính/kì 9/phan tich du lieu truyen thong xa hoi/doAn/Data/GetCmt_step_2/cmtShopeeStep2_59_60.csv')\n",
    "df_25 = pd.read_csv('C:/Users/Admin/OneDrive_Quan/Máy tính/kì 9/phan tich du lieu truyen thong xa hoi/doAn/Data/GetCmt_step_2/cmtShopeeStep2_61_62.csv')\n",
    "df_26 = pd.read_csv('C:/Users/Admin/OneDrive_Quan/Máy tính/kì 9/phan tich du lieu truyen thong xa hoi/doAn/Data/GetCmt_step_2/cmtShopeeStep2_63_64.csv')\n",
    "df_27 = pd.read_csv('C:/Users/Admin/OneDrive_Quan/Máy tính/kì 9/phan tich du lieu truyen thong xa hoi/doAn/Data/GetCmt_step_2/cmtShopeeStep2_65_66.csv')\n",
    "df_28 = pd.read_csv('C:/Users/Admin/OneDrive_Quan/Máy tính/kì 9/phan tich du lieu truyen thong xa hoi/doAn/Data/GetCmt_step_2/cmtShopeeStep2_67_67.csv')\n",
    "df_29 = pd.read_csv('C:/Users/Admin/OneDrive_Quan/Máy tính/kì 9/phan tich du lieu truyen thong xa hoi/doAn/Data/GetCmt_step_2/cmtShopeeStep2_68_68.csv')\n",
    "df_30 = pd.read_csv('C:/Users/Admin/OneDrive_Quan/Máy tính/kì 9/phan tich du lieu truyen thong xa hoi/doAn/Data/GetCmt_step_2/cmtShopeeStep2_69_69.csv')\n",
    "df_31 = pd.read_csv('C:/Users/Admin/OneDrive_Quan/Máy tính/kì 9/phan tich du lieu truyen thong xa hoi/doAn/Data/GetCmt_step_2/cmtShopeeStep2_70_70.csv')\n",
    "df_32 = pd.read_csv('C:/Users/Admin/OneDrive_Quan/Máy tính/kì 9/phan tich du lieu truyen thong xa hoi/doAn/Data/GetCmt_step_2/cmtShopeeStep2_71_73.csv')\n",
    "df_33 = pd.read_csv('C:/Users/Admin/OneDrive_Quan/Máy tính/kì 9/phan tich du lieu truyen thong xa hoi/doAn/Data/GetCmt_step_2/cmtShopeeStep2_74_75.csv')\n",
    "df_34 = pd.read_csv('C:/Users/Admin/OneDrive_Quan/Máy tính/kì 9/phan tich du lieu truyen thong xa hoi/doAn/Data/GetCmt_step_2/cmtShopeeStep2_76_77.csv')\n",
    "df_35 = pd.read_csv('C:/Users/Admin/OneDrive_Quan/Máy tính/kì 9/phan tich du lieu truyen thong xa hoi/doAn/Data/GetCmt_step_2/cmtShopeeStep2_78_79.csv')\n",
    "df_36 = pd.read_csv('C:/Users/Admin/OneDrive_Quan/Máy tính/kì 9/phan tich du lieu truyen thong xa hoi/doAn/Data/GetCmt_step_2/cmtShopeeStep2_80_81.csv')\n",
    "df_37 = pd.read_csv('C:/Users/Admin/OneDrive_Quan/Máy tính/kì 9/phan tich du lieu truyen thong xa hoi/doAn/Data/GetCmt_step_2/cmtShopeeStep2_82_83.csv')\n",
    "df_38 = pd.read_csv('C:/Users/Admin/OneDrive_Quan/Máy tính/kì 9/phan tich du lieu truyen thong xa hoi/doAn/Data/GetCmt_step_2/cmtShopeeStep2_84_84.csv')\n",
    "df_39 = pd.read_csv('C:/Users/Admin/OneDrive_Quan/Máy tính/kì 9/phan tich du lieu truyen thong xa hoi/doAn/Data/GetCmt_step_2/cmtShopeeStep2_85_85.csv')\n",
    "df_40 = pd.read_csv('C:/Users/Admin/OneDrive_Quan/Máy tính/kì 9/phan tich du lieu truyen thong xa hoi/doAn/Data/GetCmt_step_2/cmtShopeeStep2_86_87.csv')\n",
    "df_41 = pd.read_csv('C:/Users/Admin/OneDrive_Quan/Máy tính/kì 9/phan tich du lieu truyen thong xa hoi/doAn/Data/GetCmt_step_2/cmtShopeeStep2_88_89.csv')\n",
    "df_42 = pd.read_csv('C:/Users/Admin/OneDrive_Quan/Máy tính/kì 9/phan tich du lieu truyen thong xa hoi/doAn/Data/GetCmt_step_2/cmtShopeeStep2_90_91.csv')\n",
    "df_43 = pd.read_csv('C:/Users/Admin/OneDrive_Quan/Máy tính/kì 9/phan tich du lieu truyen thong xa hoi/doAn/Data/GetCmt_step_2/cmtShopeeStep2_92_93.csv')\n",
    "df_44 = pd.read_csv('C:/Users/Admin/OneDrive_Quan/Máy tính/kì 9/phan tich du lieu truyen thong xa hoi/doAn/Data/GetCmt_step_2/cmtShopeeStep2_94_95.csv')\n",
    "df_45 = pd.read_csv('C:/Users/Admin/OneDrive_Quan/Máy tính/kì 9/phan tich du lieu truyen thong xa hoi/doAn/Data/GetCmt_step_2/cmtShopeeStep2_96_97.csv')\n",
    "df_46 = pd.read_csv('C:/Users/Admin/OneDrive_Quan/Máy tính/kì 9/phan tich du lieu truyen thong xa hoi/doAn/Data/GetCmt_step_2/cmtShopeeStep2_98_99.csv')\n",
    "\n",
    "\n"
   ]
  },
  {
   "cell_type": "code",
   "execution_count": null,
   "metadata": {},
   "outputs": [],
   "source": [
    "pd.concat([df_1,df_2,df_3,df_4,df_5,df_6,df_7,df_8,df_9,df_10,\n",
    "            df_11,df_12,df_13,df_14,df_15,df_16,df_17,df_18,df_19,df_20,\n",
    "            df_21,df_22,df_23,df_24,df_25,df_26,df_27,df_28,df_29,df_30,\n",
    "            df_31,df_32,df_33,df_34,df_35,df_36,df_37,df_38,df_39,df_40,])"
   ]
  }
 ],
 "metadata": {
  "kernelspec": {
   "display_name": "Python 3.10.4 64-bit",
   "language": "python",
   "name": "python3"
  },
  "language_info": {
   "codemirror_mode": {
    "name": "ipython",
    "version": 3
   },
   "file_extension": ".py",
   "mimetype": "text/x-python",
   "name": "python",
   "nbconvert_exporter": "python",
   "pygments_lexer": "ipython3",
   "version": "3.10.4"
  },
  "orig_nbformat": 4,
  "vscode": {
   "interpreter": {
    "hash": "a42ccb73e7d9bfdf27e036f1d2b8b681e55fc0743cc5586bc2474d4a60f4b886"
   }
  }
 },
 "nbformat": 4,
 "nbformat_minor": 2
}
