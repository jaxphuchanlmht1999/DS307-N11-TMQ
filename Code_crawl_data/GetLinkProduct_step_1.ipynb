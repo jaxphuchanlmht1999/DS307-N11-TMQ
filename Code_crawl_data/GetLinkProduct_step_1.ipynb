{
 "cells": [
  {
   "cell_type": "code",
   "execution_count": 53,
   "metadata": {},
   "outputs": [],
   "source": [
    "import pandas as pd\n",
    "\n",
    "# -- Selenium --\n",
    "from selenium import webdriver\n",
    "from selenium.webdriver.chrome.options import Options\n",
    "import time\n",
    "from time import sleep\n",
    "from selenium.webdriver.common.by import By\n",
    "\n",
    "\n",
    "# -- API --\n",
    "import re\n",
    "import json\n",
    "import requests\n",
    "from tqdm import tqdm\n",
    "\n",
    "# Get today\n",
    "from datetime import date\n",
    "\n",
    "# Check time\n",
    "from tqdm import tqdm"
   ]
  },
  {
   "cell_type": "code",
   "execution_count": 54,
   "metadata": {},
   "outputs": [
    {
     "name": "stderr",
     "output_type": "stream",
     "text": [
      "C:\\Users\\Admin\\AppData\\Local\\Temp\\ipykernel_7620\\2535698866.py:1: DeprecationWarning: executable_path has been deprecated, please pass in a Service object\n",
      "  driver = webdriver.Chrome(executable_path=r\"C:/Users/Admin/OneDrive_Quan/Máy tính/kì 9/hệ khuyến nghị/đồ án/crawl_data_foody/chromedriver\")\n"
     ]
    }
   ],
   "source": [
    "driver = webdriver.Chrome(executable_path=r\"C:/Users/Admin/OneDrive_Quan/Máy tính/kì 9/hệ khuyến nghị/đồ án/crawl_data_foody/chromedriver\")"
   ]
  },
  {
   "cell_type": "code",
   "execution_count": 59,
   "metadata": {},
   "outputs": [],
   "source": [
    "# Auto Login or Pass the block from Shopee\n",
    "\n",
    "def login_account(driver):\n",
    "    link_login = r'https://shopee.vn/buyer/login?next=https%3A%2F%2Fshopee.vn%2F'\n",
    "    driver.get(link_login)\n",
    "\n",
    "    if(len(driver.find_elements(by=By.NAME, value='loginKey'))):\n",
    "        _username = 'jax.phuchan.lmht.1999@gmail.com'\n",
    "        _password = 'Quan0388925887'\n",
    "\n",
    "        username_field = driver.find_element(by=By.NAME, value='loginKey')\n",
    "        username_field.send_keys(_username)\n",
    "\n",
    "        password_field = driver.find_element(by=By.NAME, value='password')\n",
    "        password_field.send_keys(_password)\n",
    "\n",
    "        sleep(0.5)\n",
    "\n",
    "        login_button = driver.find_element(by=By.XPATH, value='//button[@class=\"wyhvVD _1EApiB hq6WM5 L-VL8Q cepDQ1 _7w24N1\"]')\n",
    "        login_button.click()\n",
    "\n",
    "        sleep(10)\n",
    "\n",
    "def check_login_account(driver):\n",
    "    if(len(driver.find_elements(by=By.NAME, value='loginKey'))):\n",
    "        _username = 'jax.phuchan.lmht.1999@gmail.com'\n",
    "        _password = 'Quan0388925887'\n",
    "\n",
    "        username_field = driver.find_element(by=By.NAME, value='loginKey')\n",
    "        username_field.send_keys(_username)\n",
    "\n",
    "        password_field = driver.find_element(by=By.NAME, value='password')\n",
    "        password_field.send_keys(_password)\n",
    "\n",
    "        sleep(0.5)\n",
    "\n",
    "        login_button = driver.find_element(by=By.XPATH, value='//button[@class=\"wyhvVD _1EApiB hq6WM5 L-VL8Q cepDQ1 _7w24N1\"]')\n",
    "        login_button.click()\n",
    "\n",
    "        sleep(10)"
   ]
  },
  {
   "cell_type": "code",
   "execution_count": 60,
   "metadata": {},
   "outputs": [],
   "source": [
    "login_account(driver)"
   ]
  },
  {
   "cell_type": "code",
   "execution_count": 68,
   "metadata": {},
   "outputs": [
    {
     "name": "stdout",
     "output_type": "stream",
     "text": [
      "So Link Da Lay Duoc La: 24\n",
      "So Link Da Lay Duoc La: 46\n",
      "So Link Da Lay Duoc La: 71\n",
      "So Link Da Lay Duoc La: 101\n"
     ]
    }
   ],
   "source": [
    "num_page = 4\n",
    "\n",
    "total_link_product = []\n",
    "\n",
    "for i in range(num_page):\n",
    "    link = f'https://shopee.vn/larocheposay_officialstore?page={i}&sortBy=pop'\n",
    "    driver.get(link)\n",
    "    sleep(2)\n",
    "\n",
    "    driver.execute_script(\"window.scrollTo(0, document.body.scrollHeight);\")\n",
    "    sleep(0.5)\n",
    "    check_login_account(driver)\n",
    "    driver.execute_script(\"window.scrollTo(0, document.body.scrollHeight - 500);\")\n",
    "    sleep(1.5)\n",
    "\n",
    "    if(len(driver.find_elements(by=By.XPATH, value='//div[@class=\"shop-collection-view__item col-xs-2-4\"]/a')) > 0):\n",
    "        Xpath_links = driver.find_elements(by=By.XPATH, value='//div[@class=\"shop-collection-view__item col-xs-2-4\"]/a')\n",
    "    elif(len(driver.find_elements(by=By.XPATH, value='//div[@class=\"shop-search-result-view__item col-xs-2-4\"]/a'))):\n",
    "        Xpath_links = driver.find_elements(by=By.XPATH, value='//div[@class=\"shop-search-result-view__item col-xs-2-4\"]/a')\n",
    "\n",
    "    check_login_account(driver)\n",
    "    for xpath_link in Xpath_links:\n",
    "        link_product = xpath_link.get_attribute('href')\n",
    "        total_link_product.append(link_product)\n",
    "\n",
    "    print('So Link Da Lay Duoc La: ' + str(len(total_link_product)))\n"
   ]
  },
  {
   "cell_type": "code",
   "execution_count": 72,
   "metadata": {},
   "outputs": [],
   "source": [
    "pd.DataFrame(total_link_product, columns=['link']).to_csv('C:/Users/Admin/OneDrive_Quan/Máy tính/kì 9/phan tich du lieu truyen thong xa hoi/doAn/Data/GetLink_step_1/La Roche-Posay.csv', index = False)"
   ]
  }
 ],
 "metadata": {
  "kernelspec": {
   "display_name": "Python 3.10.4 64-bit",
   "language": "python",
   "name": "python3"
  },
  "language_info": {
   "codemirror_mode": {
    "name": "ipython",
    "version": 3
   },
   "file_extension": ".py",
   "mimetype": "text/x-python",
   "name": "python",
   "nbconvert_exporter": "python",
   "pygments_lexer": "ipython3",
   "version": "3.10.4 (tags/v3.10.4:9d38120, Mar 23 2022, 23:13:41) [MSC v.1929 64 bit (AMD64)]"
  },
  "orig_nbformat": 4,
  "vscode": {
   "interpreter": {
    "hash": "a42ccb73e7d9bfdf27e036f1d2b8b681e55fc0743cc5586bc2474d4a60f4b886"
   }
  }
 },
 "nbformat": 4,
 "nbformat_minor": 2
}
