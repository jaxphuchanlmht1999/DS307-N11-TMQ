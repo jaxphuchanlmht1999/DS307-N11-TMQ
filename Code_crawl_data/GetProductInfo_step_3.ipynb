{
 "cells": [
  {
   "cell_type": "code",
   "execution_count": 63,
   "metadata": {},
   "outputs": [],
   "source": [
    "import pandas as pd\n",
    "\n",
    "# -- Selenium --\n",
    "from selenium import webdriver\n",
    "from selenium.webdriver.chrome.options import Options\n",
    "import time\n",
    "from time import sleep\n",
    "from selenium.webdriver.common.by import By\n",
    "\n",
    "\n",
    "# -- API --\n",
    "import re\n",
    "import json\n",
    "import requests\n",
    "\n",
    "# Get today\n",
    "from datetime import date\n",
    "\n",
    "# Check time\n",
    "from tqdm import tqdm"
   ]
  },
  {
   "cell_type": "code",
   "execution_count": 64,
   "metadata": {},
   "outputs": [],
   "source": [
    "# driver = webdriver.Chrome(executable_path=r\"C:/Users/Admin/OneDrive_Quan/Máy tính/kì 9/hệ khuyến nghị/đồ án/crawl_data_foody/chromedriver\")"
   ]
  },
  {
   "cell_type": "code",
   "execution_count": 65,
   "metadata": {},
   "outputs": [],
   "source": [
    "# Auto Login or Pass the block from Shopee\n",
    "\n",
    "def login_account(driver):\n",
    "    link_login = r'https://shopee.vn/buyer/login?next=https%3A%2F%2Fshopee.vn%2F'\n",
    "    driver.get(link_login)\n",
    "\n",
    "    if(len(driver.find_elements(by=By.NAME, value='loginKey'))):\n",
    "        _username = ''\n",
    "        _password = ''\n",
    "\n",
    "        username_field = driver.find_element(by=By.NAME, value='loginKey')\n",
    "        username_field.send_keys(_username)\n",
    "\n",
    "        password_field = driver.find_element(by=By.NAME, value='password')\n",
    "        password_field.send_keys(_password)\n",
    "\n",
    "        sleep(0.5)\n",
    "\n",
    "        login_button = driver.find_element(by=By.XPATH, value='//button[@class=\"wyhvVD _1EApiB hq6WM5 L-VL8Q cepDQ1 _7w24N1\"]')\n",
    "        login_button.click()\n",
    "\n",
    "        sleep(10)\n",
    "\n",
    "def check_login_account(driver, link):\n",
    "    if(len(driver.find_elements(by=By.NAME, value='loginKey'))):\n",
    "        _username = 'jax.phuchan.lmht.1999@gmail.com'\n",
    "        _password = 'Quan0388925887'\n",
    "\n",
    "        username_field = driver.find_element(by=By.NAME, value='loginKey')\n",
    "        username_field.send_keys(_username)\n",
    "\n",
    "        password_field = driver.find_element(by=By.NAME, value='password')\n",
    "        password_field.send_keys(_password)\n",
    "\n",
    "        sleep(0.5)\n",
    "\n",
    "        login_button = driver.find_element(by=By.XPATH, value='//button[@class=\"wyhvVD _1EApiB hq6WM5 L-VL8Q cepDQ1 _7w24N1\"]')\n",
    "        login_button.click()\n",
    "\n",
    "        sleep(5)\n",
    "        driver.get(link)\n",
    "        sleep(5)"
   ]
  },
  {
   "cell_type": "code",
   "execution_count": 66,
   "metadata": {},
   "outputs": [],
   "source": [
    "path_data = 'C:/Users/Admin/OneDrive_Quan/Máy tính/kì 9/phan tich du lieu truyen thong xa hoi/doAn/Data/GetLink_step_1/3_link_error.csv'\n",
    "data_link = pd.read_csv(path_data)\n",
    "data_link = data_link.link"
   ]
  },
  {
   "cell_type": "code",
   "execution_count": 67,
   "metadata": {},
   "outputs": [
    {
     "data": {
      "text/plain": [
       "0    https://shopee.vn/Kem-gi%E1%BA%A3m-m%E1%BB%A5n...\n",
       "1    https://shopee.vn/B%E1%BB%99-s%E1%BA%A3n-ph%E1...\n",
       "2    https://shopee.vn/B%E1%BB%99-s%E1%BA%A3n-ph%E1...\n",
       "3    https://shopee.vn/B%E1%BB%99-s%E1%BA%A3n-ph%E1...\n",
       "Name: link, dtype: object"
      ]
     },
     "execution_count": 67,
     "metadata": {},
     "output_type": "execute_result"
    }
   ],
   "source": [
    "data_link"
   ]
  },
  {
   "cell_type": "code",
   "execution_count": 68,
   "metadata": {},
   "outputs": [],
   "source": [
    "link_error = []"
   ]
  },
  {
   "cell_type": "code",
   "execution_count": 69,
   "metadata": {},
   "outputs": [],
   "source": [
    "def startCrawl(data_link, total_product_info):\n",
    "    driver = webdriver.Chrome(executable_path=r\"C:/Users/Admin/OneDrive_Quan/Máy tính/kì 9/hệ khuyến nghị/đồ án/crawl_data_foody/chromedriver\")\n",
    "    sleep(3)\n",
    "    login_account(driver)\n",
    "\n",
    "    for link in data_link:\n",
    "        driver.get(link)\n",
    "        sleep(5)\n",
    "        check_login_account(driver, link)\n",
    "        try:\n",
    "            sleep(5)\n",
    "            check_login_account(driver, link)\n",
    "            product_info = {}\n",
    "\n",
    "            driver.execute_script(\"window.scrollTo(0, 2400);\")\n",
    "            sleep(1)\n",
    "            driver.execute_script(\"window.scrollTo(0, 0);\")\n",
    "\n",
    "            # Get name_product\n",
    "            if(len(driver.find_elements(by=By.XPATH, value='//div[@class=\"YPqix5\"]')) != 0):\n",
    "                product_info['name_product'] = driver.find_element(by=By.XPATH, value='//div[@class=\"YPqix5\"]').text\n",
    "\n",
    "            # Get discount price\n",
    "            if(len(driver.find_elements(by=By.XPATH, value='//div[@class=\"X0xUb5\"]')) != 0):\n",
    "                total_price = driver.find_element(by=By.XPATH, value='//div[@class=\"X0xUb5\"]').text.replace('₫','').replace('.','')\n",
    "\n",
    "                if('-' in total_price):\n",
    "                    list_price = total_price.split(' - ')\n",
    "                    price_avg = (float(list_price[0]) + float(list_price[-1]))/2\n",
    "\n",
    "                    product_info['price_discount'] = int(price_avg)\n",
    "                else:\n",
    "                    product_info['price_discount'] = int(float(total_price))\n",
    "\n",
    "            # Get price\n",
    "            if(len(driver.find_elements(by=By.XPATH, value='//div[@class=\"Kg2R-S\"]')) != 0):\n",
    "                total_price = driver.find_element(by=By.XPATH, value='//div[@class=\"Kg2R-S\"]').text.replace('₫','').replace('.','')\n",
    "\n",
    "                if('-' in total_price):\n",
    "                    list_price = total_price.split(' - ')\n",
    "                    price_avg = (float(list_price[0]) + float(list_price[-1]))/2\n",
    "\n",
    "                    product_info['price'] = int(price_avg)\n",
    "                else:\n",
    "                    product_info['price'] = int(float(total_price))\n",
    "            else:\n",
    "                product_info['price'] = product_info['price_discount'] \n",
    "\n",
    "\n",
    "\n",
    "            # Get rating\n",
    "            if(len(driver.find_elements(by=By.XPATH, value='//div[@class=\"yz-vZm _2qXJwX\"]')) != 0):\n",
    "                product_info['rating'] = float(driver.find_element(by=By.XPATH, value='//div[@class=\"yz-vZm _2qXJwX\"]').text)\n",
    "            else:\n",
    "                product_info['rating'] = 0\n",
    "\n",
    "            # Get total purchased\n",
    "            if(driver.find_elements(by=By.XPATH, value='//div[@class=\"yiMptB\"]') != 0):\n",
    "                total_purchased = driver.find_element(by=By.XPATH, value='//div[@class=\"yiMptB\"]').text\n",
    "\n",
    "                if('k' in total_purchased):\n",
    "                    total_purchased = int(float(total_purchased.replace('k','').replace(',','.')) * 1000)\n",
    "\n",
    "                    product_info['purchased'] = total_purchased\n",
    "                else:\n",
    "                    product_info['purchased'] = int(total_purchased)\n",
    "\n",
    "\n",
    "            # Get link product\n",
    "            product_info['link_product'] = link\n",
    "\n",
    "            # Get description\n",
    "            if(len(driver.find_elements(by=By.XPATH, value='//div[@class=\"_04MILK\"]')) > 1):\n",
    "                product_info['description'] = driver.find_elements(by=By.XPATH, value='//div[@class=\"_04MILK\"]')[1].text\n",
    "\n",
    "            total_product_info.append(product_info)\n",
    "            print(len(total_product_info))\n",
    "            sleep(1)\n",
    "        except:\n",
    "            link_error.append(link)"
   ]
  },
  {
   "cell_type": "code",
   "execution_count": 70,
   "metadata": {},
   "outputs": [],
   "source": [
    "import threading\n",
    "import numpy as np\n",
    "\n",
    "list_threads = []\n",
    "total_product_info = []\n",
    "num_thread = 1\n",
    "list_partitions = [partition for partition in np.array_split(data_link, num_thread)]\n",
    "for partition_list in list_partitions:\n",
    "    list_threads.append(threading.Thread(target=startCrawl, args=(partition_list, total_product_info)))"
   ]
  },
  {
   "cell_type": "code",
   "execution_count": 71,
   "metadata": {},
   "outputs": [
    {
     "name": "stderr",
     "output_type": "stream",
     "text": [
      "C:\\Users\\Admin\\AppData\\Local\\Temp\\ipykernel_16156\\235173125.py:2: DeprecationWarning: executable_path has been deprecated, please pass in a Service object\n",
      "  driver = webdriver.Chrome(executable_path=r\"C:/Users/Admin/OneDrive_Quan/Máy tính/kì 9/hệ khuyến nghị/đồ án/crawl_data_foody/chromedriver\")\n"
     ]
    }
   ],
   "source": [
    "for thread in list_threads:\n",
    "    thread.start()  \n",
    "    time.sleep(20)  "
   ]
  },
  {
   "cell_type": "code",
   "execution_count": 72,
   "metadata": {},
   "outputs": [
    {
     "name": "stdout",
     "output_type": "stream",
     "text": [
      "1\n",
      "2\n",
      "3\n",
      "4\n"
     ]
    }
   ],
   "source": [
    "for thread in list_threads:\n",
    "    thread.join()  "
   ]
  },
  {
   "cell_type": "code",
   "execution_count": 73,
   "metadata": {},
   "outputs": [
    {
     "data": {
      "text/plain": [
       "4"
      ]
     },
     "execution_count": 73,
     "metadata": {},
     "output_type": "execute_result"
    }
   ],
   "source": [
    "len(total_product_info)"
   ]
  },
  {
   "cell_type": "code",
   "execution_count": 74,
   "metadata": {},
   "outputs": [],
   "source": [
    "pd.DataFrame(total_product_info).to_csv('C:/Users/Admin/OneDrive_Quan/Máy tính/kì 9/phan tich du lieu truyen thong xa hoi/doAn/Data/GetProductInfo_step_3/ProductInfo_3_error.csv', index = False)"
   ]
  }
 ],
 "metadata": {
  "kernelspec": {
   "display_name": "Python 3",
   "language": "python",
   "name": "python3"
  },
  "language_info": {
   "codemirror_mode": {
    "name": "ipython",
    "version": 3
   },
   "file_extension": ".py",
   "mimetype": "text/x-python",
   "name": "python",
   "nbconvert_exporter": "python",
   "pygments_lexer": "ipython3",
   "version": "3.10.4"
  },
  "orig_nbformat": 4,
  "vscode": {
   "interpreter": {
    "hash": "a42ccb73e7d9bfdf27e036f1d2b8b681e55fc0743cc5586bc2474d4a60f4b886"
   }
  }
 },
 "nbformat": 4,
 "nbformat_minor": 2
}
